{
 "cells": [
  {
   "cell_type": "markdown",
   "id": "32ba28a4",
   "metadata": {},
   "source": [
    "## String"
   ]
  },
  {
   "cell_type": "code",
   "execution_count": 1,
   "id": "46f51897",
   "metadata": {
    "scrolled": true
   },
   "outputs": [
    {
     "name": "stdout",
     "output_type": "stream",
     "text": [
      "Asad\n",
      "hello Asad !\n"
     ]
    }
   ],
   "source": [
    "name = input(\"\")\n",
    "print(\"hello {} !\".format(name))"
   ]
  },
  {
   "cell_type": "code",
   "execution_count": 2,
   "id": "b1427ae9",
   "metadata": {},
   "outputs": [
    {
     "name": "stdout",
     "output_type": "stream",
     "text": [
      "Count of is 2\n"
     ]
    }
   ],
   "source": [
    "#From below string print Count of \"Is\"\n",
    "string= \"He is Amol and she is Chaitali\"\n",
    "count = string. count(\"is\")\n",
    "print(\"Count of is {}\".format(count))"
   ]
  },
  {
   "cell_type": "code",
   "execution_count": 3,
   "id": "026a4cc8",
   "metadata": {},
   "outputs": [
    {
     "name": "stdout",
     "output_type": "stream",
     "text": [
      "['Data', 'is', 'new', 'oil']\n"
     ]
    }
   ],
   "source": [
    "#From below string Split the words by space\n",
    "string= \"Data is new oil\"\n",
    "splitted_list = string.split(\" \")\n",
    "print(splitted_list)"
   ]
  },
  {
   "cell_type": "code",
   "execution_count": 4,
   "id": "7534655d",
   "metadata": {},
   "outputs": [
    {
     "name": "stdout",
     "output_type": "stream",
     "text": [
      "Data=is=new=oil\n"
     ]
    }
   ],
   "source": [
    "# now from above List , join all words \"=\" and create a sentence\n",
    "list_1 = [\"Data\", \"is\", \"new\",\"oil\"]\n",
    "new_string = \"=\".join(list_1)\n",
    "print(new_string)"
   ]
  },
  {
   "cell_type": "code",
   "execution_count": 5,
   "id": "12ed13fc",
   "metadata": {},
   "outputs": [
    {
     "name": "stdout",
     "output_type": "stream",
     "text": [
      "I love Programming in Python\n"
     ]
    }
   ],
   "source": [
    "# From below string replace \"Java\" with \"python\"\n",
    "sentence = \"I love Programming in Java\"\n",
    "new_sentence = sentence.replace(\"Java\",\"Python\")\n",
    "print(new_sentence)"
   ]
  },
  {
   "cell_type": "code",
   "execution_count": 6,
   "id": "3e86b3f0",
   "metadata": {},
   "outputs": [
    {
     "name": "stdout",
     "output_type": "stream",
     "text": [
      "This is a message with Spaces,\n"
     ]
    }
   ],
   "source": [
    "message = \"  This is a message with Spaces,  \"\n",
    "strip_msg = message.strip()\n",
    "print(strip_msg)"
   ]
  },
  {
   "cell_type": "code",
   "execution_count": 7,
   "id": "53943f55",
   "metadata": {},
   "outputs": [
    {
     "name": "stdout",
     "output_type": "stream",
     "text": [
      "10\n"
     ]
    }
   ],
   "source": [
    "#7. From below string find postion(start index) of \"sample\"\n",
    "sentence = \"This is a sample sentence.\"\n",
    "position = sentence.find(\"sample\")\n",
    "print(position)"
   ]
  },
  {
   "cell_type": "code",
   "execution_count": 8,
   "id": "4606a7f2",
   "metadata": {},
   "outputs": [
    {
     "name": "stdout",
     "output_type": "stream",
     "text": [
      "Length of the string is: 14\n"
     ]
    }
   ],
   "source": [
    "#8. Given the string \"Python is fun!\", how can you calculate and print its length?\n",
    "text = \"Python is fun!\"\n",
    "length = len(text)\n",
    "print(\"Length of the string is:\", length)\n"
   ]
  },
  {
   "cell_type": "code",
   "execution_count": 9,
   "id": "61050013",
   "metadata": {},
   "outputs": [
    {
     "name": "stdout",
     "output_type": "stream",
     "text": [
      "elppaeniP\n"
     ]
    }
   ],
   "source": [
    "#9. Print below string in reverse order\n",
    "string = \"Pineapple\"\n",
    "reversed_string = string[::-1]\n",
    "print(reversed_string)\n"
   ]
  },
  {
   "cell_type": "code",
   "execution_count": 10,
   "id": "458ad636",
   "metadata": {},
   "outputs": [
    {
     "name": "stdout",
     "output_type": "stream",
     "text": [
      "Welcome To Python Programming.\n"
     ]
    }
   ],
   "source": [
    "#10. Given the string \"Welcome to Python Programming.\", how can you capitalize the first letter of each word and print the modified string?\n",
    "text = \"Welcome to Python Programming.\"\n",
    "capitalized_text = text.title()\n",
    "print(capitalized_text)\n"
   ]
  },
  {
   "cell_type": "code",
   "execution_count": 11,
   "id": "c92a6d86",
   "metadata": {},
   "outputs": [
    {
     "name": "stdout",
     "output_type": "stream",
     "text": [
      "DATA IS NEW OIL\n"
     ]
    }
   ],
   "source": [
    "#11. Convert all letter of string to Upper Case\n",
    "text = \"Data is new oil\"\n",
    "uppercase_text = text.upper()\n",
    "print(uppercase_text)\n"
   ]
  },
  {
   "cell_type": "code",
   "execution_count": 12,
   "id": "81ed3e68",
   "metadata": {},
   "outputs": [
    {
     "name": "stdout",
     "output_type": "stream",
     "text": [
      "I am learning python\n"
     ]
    }
   ],
   "source": [
    "#12. From below string just convert first lettter of string to upper case\n",
    "text = \"i am learning python\"\n",
    "capitalized_text = text.capitalize()\n",
    "print(capitalized_text)\n"
   ]
  },
  {
   "cell_type": "code",
   "execution_count": 13,
   "id": "ac25cb3d",
   "metadata": {},
   "outputs": [
    {
     "name": "stdout",
     "output_type": "stream",
     "text": [
      "dAta IS nEw Oil\n"
     ]
    }
   ],
   "source": [
    "#13. Convert all uppper case to lower and lower case to upper\n",
    "text = \"DaTA is NeW oIL\"\n",
    "swapped_text = text.swapcase()\n",
    "print(swapped_text)\n"
   ]
  },
  {
   "cell_type": "code",
   "execution_count": 14,
   "id": "42401ba8",
   "metadata": {},
   "outputs": [
    {
     "name": "stdout",
     "output_type": "stream",
     "text": [
      "50\n"
     ]
    }
   ],
   "source": [
    "#14. print the addition of below 2 strings\n",
    "a = 20\n",
    "b = 30\n",
    "result = a + b\n",
    "print(result)\n"
   ]
  },
  {
   "cell_type": "code",
   "execution_count": 15,
   "id": "92d2cca0",
   "metadata": {},
   "outputs": [
    {
     "name": "stdout",
     "output_type": "stream",
     "text": [
      "2030\n"
     ]
    }
   ],
   "source": [
    "a = \"20\"\n",
    "b = \"30\"\n",
    "result = a + b\n",
    "print(result)\n"
   ]
  },
  {
   "cell_type": "markdown",
   "id": "4045abe7",
   "metadata": {},
   "source": [
    "# List"
   ]
  },
  {
   "cell_type": "code",
   "execution_count": 16,
   "id": "fe4efd90",
   "metadata": {},
   "outputs": [
    {
     "name": "stdout",
     "output_type": "stream",
     "text": [
      "[1, 2, 3, 44, 5]\n"
     ]
    }
   ],
   "source": [
    "# 16. From below list replace 4 with 44\n",
    "my_list = [1, 2, 3, 4, 5]\n",
    "my_list[3]= 44\n",
    "print(my_list)"
   ]
  },
  {
   "cell_type": "code",
   "execution_count": 17,
   "id": "237549e6",
   "metadata": {},
   "outputs": [],
   "source": [
    "# 17. In below list add(insert) 200 at index 3\n",
    "my_list = [1, 2, 3, 4, 5]\n",
    "my_list.insert(3,200)"
   ]
  },
  {
   "cell_type": "code",
   "execution_count": 18,
   "id": "f73eed36",
   "metadata": {},
   "outputs": [
    {
     "name": "stdout",
     "output_type": "stream",
     "text": [
      "[1, 2, 3, 200, 4, 5]\n"
     ]
    }
   ],
   "source": [
    "print(my_list)"
   ]
  },
  {
   "cell_type": "code",
   "execution_count": 19,
   "id": "186a9719",
   "metadata": {},
   "outputs": [],
   "source": [
    "# 18. In below list add new number 66\n",
    "my_list = [1, 2, 3, 4, 5]\n",
    "my_list.append(66)"
   ]
  },
  {
   "cell_type": "code",
   "execution_count": 20,
   "id": "2a2b3a78",
   "metadata": {},
   "outputs": [
    {
     "name": "stdout",
     "output_type": "stream",
     "text": [
      "[1, 2, 3, 4, 5, 66]\n"
     ]
    }
   ],
   "source": [
    "print(my_list)\n"
   ]
  },
  {
   "cell_type": "code",
   "execution_count": 21,
   "id": "58ab41ec",
   "metadata": {},
   "outputs": [],
   "source": [
    "# 19 In below list insert new numbers 66,87,99\n",
    "my_list = [1, 2, 3, 4, 5]\n",
    "my_list.insert(2, 66)  \n",
    "my_list.insert(4, 87) \n",
    "my_list.insert(5, 99) "
   ]
  },
  {
   "cell_type": "code",
   "execution_count": 22,
   "id": "4c53b22f",
   "metadata": {},
   "outputs": [
    {
     "name": "stdout",
     "output_type": "stream",
     "text": [
      "[1, 2, 66, 3, 87, 99, 4, 5]\n"
     ]
    }
   ],
   "source": [
    "print(my_list)\n"
   ]
  },
  {
   "cell_type": "code",
   "execution_count": 23,
   "id": "b2cad949",
   "metadata": {},
   "outputs": [],
   "source": [
    "# 20. from below list remove number 3\n",
    "my_list = [1, 2, 3, 4, 5]\n",
    "my_list.remove(3)"
   ]
  },
  {
   "cell_type": "code",
   "execution_count": 24,
   "id": "3105e476",
   "metadata": {},
   "outputs": [
    {
     "name": "stdout",
     "output_type": "stream",
     "text": [
      "[1, 2, 4, 5]\n"
     ]
    }
   ],
   "source": [
    "print(my_list)\n"
   ]
  },
  {
   "cell_type": "code",
   "execution_count": 25,
   "id": "b4e26ab9",
   "metadata": {},
   "outputs": [
    {
     "data": {
      "text/plain": [
       "2"
      ]
     },
     "execution_count": 25,
     "metadata": {},
     "output_type": "execute_result"
    }
   ],
   "source": [
    "# 21. From below list print count of \"cherry\"\n",
    "my_list = [1, 2.5, \"cherry\", 3, \"banana\", 4.0, \"cherry\"]\n",
    "my_list.count(\"cherry\")"
   ]
  },
  {
   "cell_type": "code",
   "execution_count": 26,
   "id": "96cbc1db",
   "metadata": {},
   "outputs": [
    {
     "data": {
      "text/plain": [
       "4"
      ]
     },
     "execution_count": 26,
     "metadata": {},
     "output_type": "execute_result"
    }
   ],
   "source": [
    "# 22. From below list print index of \"banana\"\n",
    "my_list = [1, 2.5, \"apple\", 3, \"banana\", 4.0, \"cherry\"]\n",
    "my_list.index(\"banana\")"
   ]
  },
  {
   "cell_type": "code",
   "execution_count": 27,
   "id": "fd6d0cad",
   "metadata": {},
   "outputs": [
    {
     "data": {
      "text/plain": [
       "['Pune', 'Delhi', 'Mumbai', 'Indore', 'Jaipur']"
      ]
     },
     "execution_count": 27,
     "metadata": {},
     "output_type": "execute_result"
    }
   ],
   "source": [
    "# 23. From below list remove last item\n",
    "my_list = [\"Pune\",\"Delhi\",\"Mumbai\",\"Indore\",\"Jaipur\",\"Dehradun\"]\n",
    "my_list[:-1]"
   ]
  },
  {
   "cell_type": "code",
   "execution_count": 28,
   "id": "9a75b175",
   "metadata": {},
   "outputs": [],
   "source": [
    "#24. Sort the below list in Alphabetical order\n",
    "my_list = [\"Grapes\",\"Apple\",\"Cherry\",\"Mango\",\"Banana\"]\n",
    "my_list.sort()"
   ]
  },
  {
   "cell_type": "code",
   "execution_count": 29,
   "id": "7bc390a4",
   "metadata": {},
   "outputs": [
    {
     "name": "stdout",
     "output_type": "stream",
     "text": [
      "['Apple', 'Banana', 'Cherry', 'Grapes', 'Mango']\n"
     ]
    }
   ],
   "source": [
    "print(my_list)\n"
   ]
  },
  {
   "cell_type": "code",
   "execution_count": 30,
   "id": "bf605929",
   "metadata": {},
   "outputs": [],
   "source": [
    "# 25. Sort below list in reverse Alphabetical order\n",
    "my_list = [\"Grapes\",\"Apple\",\"Cherry\",\"Mango\",\"Banana\"]\n",
    "my_list.sort(reverse=True)"
   ]
  },
  {
   "cell_type": "code",
   "execution_count": 31,
   "id": "ec1a28bc",
   "metadata": {},
   "outputs": [
    {
     "name": "stdout",
     "output_type": "stream",
     "text": [
      "['Mango', 'Grapes', 'Cherry', 'Banana', 'Apple']\n"
     ]
    }
   ],
   "source": [
    "print(my_list)\n"
   ]
  },
  {
   "cell_type": "markdown",
   "id": "d34e746d",
   "metadata": {},
   "source": [
    "# List Class 2"
   ]
  },
  {
   "cell_type": "code",
   "execution_count": 32,
   "id": "4afcb7ed",
   "metadata": {},
   "outputs": [],
   "source": [
    "myList = [3, 'element number two', ['last', 'element']]"
   ]
  },
  {
   "cell_type": "code",
   "execution_count": 33,
   "id": "2e09b79c",
   "metadata": {},
   "outputs": [
    {
     "name": "stdout",
     "output_type": "stream",
     "text": [
      "3\n"
     ]
    }
   ],
   "source": [
    "my_list = [1, 2, 3, 4, 5, 6, 7, 8, 9]\n",
    "print(my_list[2])"
   ]
  },
  {
   "cell_type": "code",
   "execution_count": 34,
   "id": "d1acc76d",
   "metadata": {},
   "outputs": [
    {
     "name": "stdout",
     "output_type": "stream",
     "text": [
      "[1, 2, 3, 4, 5, 6, 7, 8, 16]\n"
     ]
    }
   ],
   "source": [
    "my_list[-1] = 16  # Modify the last element (index -1) to be 16\n",
    "print(my_list)"
   ]
  },
  {
   "cell_type": "code",
   "execution_count": 35,
   "id": "ed5f6b69",
   "metadata": {},
   "outputs": [
    {
     "name": "stdout",
     "output_type": "stream",
     "text": [
      "134\n"
     ]
    }
   ],
   "source": [
    "minList = [351, 984, 1697, 284, 134, 467, 164]\n",
    "min_value = min(minList)\n",
    "print(min_value)\n"
   ]
  },
  {
   "cell_type": "code",
   "execution_count": 36,
   "id": "118b9de3",
   "metadata": {},
   "outputs": [
    {
     "name": "stdout",
     "output_type": "stream",
     "text": [
      "[1, 2, 3, 'append me!']\n"
     ]
    }
   ],
   "source": [
    "listToAppend = [1, 2, 3]\n",
    "listToAppend.append('append me!')\n",
    "print(listToAppend)\n"
   ]
  },
  {
   "cell_type": "code",
   "execution_count": 37,
   "id": "89bad6cf",
   "metadata": {},
   "outputs": [
    {
     "name": "stdout",
     "output_type": "stream",
     "text": [
      "8\n"
     ]
    }
   ],
   "source": [
    "listToFindLength = ['this', 'is', 'the', 'list', 'whose', 'length', 'I', 'want']\n",
    "length_of_list = len(listToFindLength)\n",
    "print(length_of_list)\n"
   ]
  },
  {
   "cell_type": "code",
   "execution_count": 38,
   "id": "44627664",
   "metadata": {},
   "outputs": [
    {
     "name": "stdout",
     "output_type": "stream",
     "text": [
      "3722\n"
     ]
    }
   ],
   "source": [
    "intList = [154, 678, 2890]\n",
    "sum_of_list = sum(intList)\n",
    "print(sum_of_list)\n"
   ]
  },
  {
   "cell_type": "code",
   "execution_count": 39,
   "id": "a5993cbf",
   "metadata": {},
   "outputs": [
    {
     "name": "stdout",
     "output_type": "stream",
     "text": [
      "53245\n"
     ]
    }
   ],
   "source": [
    "maxList = [677, 53245, 234, 236, 23456, 345, 23526, 34541]\n",
    "max_value = max(maxList)\n",
    "print(max_value)\n"
   ]
  },
  {
   "cell_type": "code",
   "execution_count": 40,
   "id": "0a5f604b",
   "metadata": {},
   "outputs": [],
   "source": [
    "myList = [3, 'element number two', ['last', 'element']]"
   ]
  },
  {
   "cell_type": "code",
   "execution_count": 41,
   "id": "b6ee08a4",
   "metadata": {},
   "outputs": [
    {
     "name": "stdout",
     "output_type": "stream",
     "text": [
      "3\n"
     ]
    }
   ],
   "source": [
    "my_list = [1, 2, 3, 4, 5, 6, 7, 8, 9]\n",
    "print(my_list[2])\n"
   ]
  },
  {
   "cell_type": "code",
   "execution_count": 42,
   "id": "e9a71a4b",
   "metadata": {},
   "outputs": [
    {
     "name": "stdout",
     "output_type": "stream",
     "text": [
      "[1, 2, 3, 4, 5, 6, 7, 8, 16]\n"
     ]
    }
   ],
   "source": [
    "my_list[-1] = 16  # Modify the last element (index -1) to be 16\n",
    "print(my_list)\n"
   ]
  },
  {
   "cell_type": "code",
   "execution_count": 43,
   "id": "93165e47",
   "metadata": {},
   "outputs": [
    {
     "name": "stdout",
     "output_type": "stream",
     "text": [
      "8\n"
     ]
    }
   ],
   "source": [
    "listToFindLength = ['this', 'is', 'the', 'list', 'whose', 'length', 'I', 'want']\n",
    "length_of_list = len(listToFindLength)\n",
    "print(length_of_list)\n"
   ]
  }
 ],
 "metadata": {
  "kernelspec": {
   "display_name": "Python 3 (ipykernel)",
   "language": "python",
   "name": "python3"
  },
  "language_info": {
   "codemirror_mode": {
    "name": "ipython",
    "version": 3
   },
   "file_extension": ".py",
   "mimetype": "text/x-python",
   "name": "python",
   "nbconvert_exporter": "python",
   "pygments_lexer": "ipython3",
   "version": "3.11.3"
  }
 },
 "nbformat": 4,
 "nbformat_minor": 5
}
