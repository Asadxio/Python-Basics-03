{
 "cells": [
  {
   "cell_type": "markdown",
   "id": "8d716ef3",
   "metadata": {},
   "source": [
    "# Problem 1:\n"
   ]
  },
  {
   "cell_type": "code",
   "execution_count": 3,
   "id": "520e73b0",
   "metadata": {},
   "outputs": [],
   "source": [
    "myList = [3, 'element number two', ['last', 'element']]"
   ]
  },
  {
   "cell_type": "markdown",
   "id": "fa8aefbf",
   "metadata": {},
   "source": [
    "# Problem 2:"
   ]
  },
  {
   "cell_type": "code",
   "execution_count": 4,
   "id": "0bf63ff2",
   "metadata": {},
   "outputs": [
    {
     "name": "stdout",
     "output_type": "stream",
     "text": [
      "3\n"
     ]
    }
   ],
   "source": [
    "my_list = [1, 2, 3, 4, 5, 6, 7, 8, 9]\n",
    "print(my_list[2])"
   ]
  },
  {
   "cell_type": "markdown",
   "id": "3b1a6525",
   "metadata": {},
   "source": [
    "# Problem 3:"
   ]
  },
  {
   "cell_type": "code",
   "execution_count": 5,
   "id": "83d213e2",
   "metadata": {},
   "outputs": [
    {
     "name": "stdout",
     "output_type": "stream",
     "text": [
      "[1, 2, 3, 4, 5, 6, 7, 8, 16]\n"
     ]
    }
   ],
   "source": [
    "my_list[-1] = 16  # Modify the last element (index -1) to be 16\n",
    "print(my_list)"
   ]
  },
  {
   "cell_type": "code",
   "execution_count": 6,
   "id": "d042f707",
   "metadata": {},
   "outputs": [
    {
     "name": "stdout",
     "output_type": "stream",
     "text": [
      "134\n"
     ]
    }
   ],
   "source": [
    "minList = [351, 984, 1697, 284, 134, 467, 164]\n",
    "min_value = min(minList)\n",
    "print(min_value)\n"
   ]
  },
  {
   "cell_type": "code",
   "execution_count": 7,
   "id": "353fc18f",
   "metadata": {},
   "outputs": [
    {
     "name": "stdout",
     "output_type": "stream",
     "text": [
      "[1, 2, 3, 'append me!']\n"
     ]
    }
   ],
   "source": [
    "listToAppend = [1, 2, 3]\n",
    "listToAppend.append('append me!')\n",
    "print(listToAppend)\n"
   ]
  },
  {
   "cell_type": "code",
   "execution_count": 8,
   "id": "790c1ea8",
   "metadata": {},
   "outputs": [
    {
     "name": "stdout",
     "output_type": "stream",
     "text": [
      "8\n"
     ]
    }
   ],
   "source": [
    "listToFindLength = ['this', 'is', 'the', 'list', 'whose', 'length', 'I', 'want']\n",
    "length_of_list = len(listToFindLength)\n",
    "print(length_of_list)\n"
   ]
  },
  {
   "cell_type": "code",
   "execution_count": 9,
   "id": "59a6698d",
   "metadata": {},
   "outputs": [
    {
     "name": "stdout",
     "output_type": "stream",
     "text": [
      "3722\n"
     ]
    }
   ],
   "source": [
    "intList = [154, 678, 2890]\n",
    "sum_of_list = sum(intList)\n",
    "print(sum_of_list)\n"
   ]
  },
  {
   "cell_type": "code",
   "execution_count": 10,
   "id": "ce9a991b",
   "metadata": {},
   "outputs": [
    {
     "name": "stdout",
     "output_type": "stream",
     "text": [
      "53245\n"
     ]
    }
   ],
   "source": [
    "maxList = [677, 53245, 234, 236, 23456, 345, 23526, 34541]\n",
    "max_value = max(maxList)\n",
    "print(max_value)\n"
   ]
  },
  {
   "cell_type": "code",
   "execution_count": 11,
   "id": "e2261c0e",
   "metadata": {},
   "outputs": [],
   "source": [
    "myList = [3, 'element number two', ['last', 'element']]"
   ]
  },
  {
   "cell_type": "code",
   "execution_count": 12,
   "id": "c78a820a",
   "metadata": {},
   "outputs": [
    {
     "name": "stdout",
     "output_type": "stream",
     "text": [
      "3\n"
     ]
    }
   ],
   "source": [
    "my_list = [1, 2, 3, 4, 5, 6, 7, 8, 9]\n",
    "print(my_list[2])\n"
   ]
  },
  {
   "cell_type": "code",
   "execution_count": 13,
   "id": "341b78da",
   "metadata": {},
   "outputs": [
    {
     "name": "stdout",
     "output_type": "stream",
     "text": [
      "[1, 2, 3, 4, 5, 6, 7, 8, 16]\n"
     ]
    }
   ],
   "source": [
    "my_list[-1] = 16  # Modify the last element (index -1) to be 16\n",
    "print(my_list)\n"
   ]
  },
  {
   "cell_type": "code",
   "execution_count": 14,
   "id": "063ef252",
   "metadata": {},
   "outputs": [
    {
     "name": "stdout",
     "output_type": "stream",
     "text": [
      "8\n"
     ]
    }
   ],
   "source": [
    "listToFindLength = ['this', 'is', 'the', 'list', 'whose', 'length', 'I', 'want']\n",
    "length_of_list = len(listToFindLength)\n",
    "print(length_of_list)\n"
   ]
  },
  {
   "cell_type": "code",
   "execution_count": null,
   "id": "e4631230",
   "metadata": {},
   "outputs": [],
   "source": []
  }
 ],
 "metadata": {
  "kernelspec": {
   "display_name": "Python 3 (ipykernel)",
   "language": "python",
   "name": "python3"
  },
  "language_info": {
   "codemirror_mode": {
    "name": "ipython",
    "version": 3
   },
   "file_extension": ".py",
   "mimetype": "text/x-python",
   "name": "python",
   "nbconvert_exporter": "python",
   "pygments_lexer": "ipython3",
   "version": "3.11.3"
  }
 },
 "nbformat": 4,
 "nbformat_minor": 5
}
